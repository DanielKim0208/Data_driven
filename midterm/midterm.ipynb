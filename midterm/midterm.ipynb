{
 "cells": [
  {
   "attachments": {},
   "cell_type": "markdown",
   "metadata": {},
   "source": [
    "### ME-371 Midterm assessment - Fall 2023 - Daniel Kim\n",
    "#### Part 1 "
   ]
  },
  {
   "cell_type": "code",
   "execution_count": 19,
   "metadata": {},
   "outputs": [],
   "source": [
    "#Question 1.1\n",
    "\n",
    "import random as rd \n",
    "from random import randint\n",
    "\n",
    "def random_avg(a, b, n=100, seed=1):\n",
    "    rd.seed(seed)\n",
    "    x = 0\n",
    "    for i in range(n):\n",
    "        x += rd.randint(a, b)\n",
    "    return x / n\n",
    "\n",
    "assert random_avg(0,10) == 5.28\n",
    "assert random_avg(0, 10, n=1000) == 5.03\n",
    "assert random_avg(0, 10, n=1000, seed=123) == 4.966\n",
    "assert random_avg(0, 10, n=1_000_000, seed=123) == 4.997245\n"
   ]
  },
  {
   "cell_type": "code",
   "execution_count": 23,
   "metadata": {},
   "outputs": [],
   "source": [
    "#Question 1.2 \n",
    "\n",
    "import math \n",
    "\n",
    "def is_almost_equal(left, right, tolerance =1e-12):\n",
    "    rmse, se = 0, 0\n",
    "    for i in range(len(left)):\n",
    "        se += (left[i] - right[i]) ** 2\n",
    "\n",
    "    rmse = math.sqrt(se / len(left))\n",
    "    if rmse < tolerance: \n",
    "        return True\n",
    "    else:\n",
    "        return False\n",
    "    \n",
    "assert is_almost_equal([1, 2, 3], [1.0001, 2.0001, 2.9999], tolerance=0.001)\n",
    "assert not is_almost_equal([1, 2, 3], [1.0001, 2.0001, 2.9999])"
   ]
  },
  {
   "cell_type": "code",
   "execution_count": 44,
   "metadata": {},
   "outputs": [],
   "source": [
    "#Question 1.3 \n",
    "\n",
    "def prefix_finder(my_list, suffix):\n",
    "    suffixList = []\n",
    "    for i in my_list:\n",
    "        if i.lower().endswith(suffix.lower()):\n",
    "            modified = i.lower().replace(suffix.lower(), \"\")\n",
    "            suffixList.append(modified.capitalize())\n",
    "    return suffixList\n",
    "\n",
    "assert prefix_finder([\"Forest\", \"Cat\", \"Fastest\"], \"EsT\") == [\"For\", \"Fast\"]\n",
    "assert prefix_finder([\"Forest\", \"Fastest\", \"Cat\"], \"AsT\") == []"
   ]
  },
  {
   "cell_type": "code",
   "execution_count": 49,
   "metadata": {},
   "outputs": [],
   "source": [
    "#Question 1.4\n",
    "data = [ \n",
    "    (1, 23), \n",
    "    (104, -3)\n",
    "]\n",
    "\n",
    "def tuple_to_dict(data): \n",
    "    result = []\n",
    "    for tup in data: \n",
    "        result.append({\"col0\": tup[0], \"col1\": tup[1]})\n",
    "    return result\n",
    "\n",
    "assert tuple_to_dict([(1, 40)]) == [{\"col0\": 1, \"col1\": 40}]\n",
    "assert tuple_to_dict([(1, 40)]) == [{\"col0\": 1, \"col1\": 40}]\n",
    "list_1 = [(9, 3), (12, -4), (0, 2)]\n",
    "out_1 = [{\"col0\": 9, \"col1\": 3}, {\"col0\": 12, \"col1\": -4},\n",
    "{\"col0\": 0, \"col1\": 2}]\n",
    "\n",
    "assert tuple_to_dict(list_1) == out_1\n",
    "list_2 = []\n",
    "out_2 = []\n",
    "assert tuple_to_dict(list_2) == out_2"
   ]
  },
  {
   "cell_type": "code",
   "execution_count": 57,
   "metadata": {},
   "outputs": [],
   "source": [
    "#Question 1.5 \n",
    "\n",
    "def attributes_to_dict(data):\n",
    "    dict = {}  \n",
    "    for tup in data:\n",
    "        key = tup[0]\n",
    "        values = list(tup[1:]) \n",
    "        dict[key] = values\n",
    "    return dict\n",
    "\n",
    "\n",
    "# checking the function\n",
    "data = [\n",
    " (\"123xyz\", 1, \"green\", \"apple\"),\n",
    " (\"456uvw\", 0),\n",
    " (\"209abc\",),\n",
    " (\"845lmn\", 2, \"blue\", \"ocean\", \"salmon\"),\n",
    " ]\n",
    "out = {\n",
    " \"123xyz\": [1, \"green\", \"apple\"],\n",
    " \"456uvw\": [0],\n",
    " \"209abc\": [],\n",
    " \"845lmn\": [2, \"blue\", \"ocean\", \"salmon\"],\n",
    " }\n",
    "\n",
    "assert attributes_to_dict(data) == out"
   ]
  },
  {
   "cell_type": "code",
   "execution_count": 70,
   "metadata": {},
   "outputs": [],
   "source": [
    "#Question 1.6\n",
    "COUNTS = {\n",
    "    \"u13\": 10,\n",
    "    \"a41\": 12,\n",
    "    \"c20\": 2\n",
    "}\n",
    "\n",
    "def lookup(keys):\n",
    "    total = 0\n",
    "    for key in keys:\n",
    "        if key in COUNTS:\n",
    "            total += COUNTS[key]\n",
    "    return total\n",
    "\n",
    "assert lookup([\"d23\"]) == 0\n",
    "assert lookup([\"u13\"]) == 10\n",
    "assert lookup([\"u13\", \"a41\"]) == 22\n",
    "assert lookup([\"u13\", \"a41\", \"d23\"]) == 22\n"
   ]
  },
  {
   "cell_type": "code",
   "execution_count": null,
   "metadata": {},
   "outputs": [],
   "source": [
    "#Question 1.7\n",
    "\n",
    "data = {\n",
    " \"c1X2\": (max, [10, 0, -2]),\n",
    " \"d4Y0\": (sum, [-3, -2, -5, 4, 6]),\n",
    " \"x1C9\": (min, [0, -2, -9, 3]),\n",
    "}\n",
    "\n",
    "def reducer(data): \n",
    "    "
   ]
  },
  {
   "cell_type": "code",
   "execution_count": null,
   "metadata": {},
   "outputs": [],
   "source": [
    "#Question 1.8 \n"
   ]
  },
  {
   "cell_type": "code",
   "execution_count": null,
   "metadata": {},
   "outputs": [],
   "source": [
    "#Question 1.9 "
   ]
  },
  {
   "cell_type": "code",
   "execution_count": 107,
   "metadata": {},
   "outputs": [
    {
     "data": {
      "text/html": [
       "<div>\n",
       "<style scoped>\n",
       "    .dataframe tbody tr th:only-of-type {\n",
       "        vertical-align: middle;\n",
       "    }\n",
       "\n",
       "    .dataframe tbody tr th {\n",
       "        vertical-align: top;\n",
       "    }\n",
       "\n",
       "    .dataframe thead th {\n",
       "        text-align: right;\n",
       "    }\n",
       "</style>\n",
       "<table border=\"1\" class=\"dataframe\">\n",
       "  <thead>\n",
       "    <tr style=\"text-align: right;\">\n",
       "      <th></th>\n",
       "      <th>naics</th>\n",
       "      <th>naics_title</th>\n",
       "      <th>year</th>\n",
       "      <th>emp</th>\n",
       "      <th>pay</th>\n",
       "      <th>prode</th>\n",
       "      <th>prodh</th>\n",
       "      <th>prodw</th>\n",
       "      <th>vship</th>\n",
       "      <th>matcost</th>\n",
       "      <th>...</th>\n",
       "      <th>equip</th>\n",
       "      <th>plant</th>\n",
       "      <th>piship</th>\n",
       "      <th>pimat</th>\n",
       "      <th>piinv</th>\n",
       "      <th>pien</th>\n",
       "      <th>dtfp5</th>\n",
       "      <th>tfp5</th>\n",
       "      <th>dtfp4</th>\n",
       "      <th>tfp4</th>\n",
       "    </tr>\n",
       "  </thead>\n",
       "  <tbody>\n",
       "    <tr>\n",
       "      <th>0</th>\n",
       "      <td>311111</td>\n",
       "      <td>Dog and Cat Food Manufacturing</td>\n",
       "      <td>1958</td>\n",
       "      <td>18.0</td>\n",
       "      <td>81.3</td>\n",
       "      <td>12.0</td>\n",
       "      <td>25.7</td>\n",
       "      <td>49.8</td>\n",
       "      <td>1042.4</td>\n",
       "      <td>752.4</td>\n",
       "      <td>...</td>\n",
       "      <td>517.6</td>\n",
       "      <td>695.0</td>\n",
       "      <td>0.354</td>\n",
       "      <td>0.133</td>\n",
       "      <td>0.168</td>\n",
       "      <td>0.116</td>\n",
       "      <td>NaN</td>\n",
       "      <td>0.317</td>\n",
       "      <td>NaN</td>\n",
       "      <td>0.318</td>\n",
       "    </tr>\n",
       "  </tbody>\n",
       "</table>\n",
       "<p>1 rows × 25 columns</p>\n",
       "</div>"
      ],
      "text/plain": [
       "    naics                     naics_title  year   emp   pay  prode  prodh  \\\n",
       "0  311111  Dog and Cat Food Manufacturing  1958  18.0  81.3   12.0   25.7   \n",
       "\n",
       "   prodw   vship  matcost  ...  equip  plant  piship  pimat  piinv   pien  \\\n",
       "0   49.8  1042.4    752.4  ...  517.6  695.0   0.354  0.133  0.168  0.116   \n",
       "\n",
       "   dtfp5   tfp5  dtfp4   tfp4  \n",
       "0    NaN  0.317    NaN  0.318  \n",
       "\n",
       "[1 rows x 25 columns]"
      ]
     },
     "execution_count": 107,
     "metadata": {},
     "output_type": "execute_result"
    }
   ],
   "source": [
    "import pandas as pd\n",
    "URL = 'https://raw.githubusercontent.com/MasoudMiM/MECG_542/master/Manufacturing_Industry_Database/Manufacturing_Industry_Database.csv'\n",
    "df = pd.read_csv(URL)\n",
    "df.head(1)"
   ]
  },
  {
   "cell_type": "code",
   "execution_count": 108,
   "metadata": {},
   "outputs": [
    {
     "name": "stdout",
     "output_type": "stream",
     "text": [
      "There are 364 Unique NAICS industries represented in the dataset\n"
     ]
    }
   ],
   "source": [
    "#Question 2.1 \n",
    "\n",
    "print (\"There are\",df[\"naics_title\"].nunique(), \"Unique NAICS industries represented in the dataset\" )"
   ]
  },
  {
   "cell_type": "code",
   "execution_count": 156,
   "metadata": {},
   "outputs": [
    {
     "data": {
      "text/html": [
       "<div>\n",
       "<style scoped>\n",
       "    .dataframe tbody tr th:only-of-type {\n",
       "        vertical-align: middle;\n",
       "    }\n",
       "\n",
       "    .dataframe tbody tr th {\n",
       "        vertical-align: top;\n",
       "    }\n",
       "\n",
       "    .dataframe thead th {\n",
       "        text-align: right;\n",
       "    }\n",
       "</style>\n",
       "<table border=\"1\" class=\"dataframe\">\n",
       "  <thead>\n",
       "    <tr style=\"text-align: right;\">\n",
       "      <th></th>\n",
       "      <th>NAICS Industry</th>\n",
       "      <th>Employees</th>\n",
       "    </tr>\n",
       "  </thead>\n",
       "  <tbody>\n",
       "    <tr>\n",
       "      <th>19</th>\n",
       "      <td>All Other Plastics Product Manufacturing</td>\n",
       "      <td>379.2</td>\n",
       "    </tr>\n",
       "    <tr>\n",
       "      <th>60</th>\n",
       "      <td>Commercial Printing (except Screen and Books)</td>\n",
       "      <td>315.6</td>\n",
       "    </tr>\n",
       "    <tr>\n",
       "      <th>267</th>\n",
       "      <td>Poultry Processing</td>\n",
       "      <td>233.1</td>\n",
       "    </tr>\n",
       "    <tr>\n",
       "      <th>164</th>\n",
       "      <td>Machine Shops</td>\n",
       "      <td>231.8</td>\n",
       "    </tr>\n",
       "    <tr>\n",
       "      <th>5</th>\n",
       "      <td>Aircraft Manufacturing</td>\n",
       "      <td>171.9</td>\n",
       "    </tr>\n",
       "    <tr>\n",
       "      <th>...</th>\n",
       "      <td>...</td>\n",
       "      <td>...</td>\n",
       "    </tr>\n",
       "    <tr>\n",
       "      <th>218</th>\n",
       "      <td>Other Apparel Knitting Mills</td>\n",
       "      <td>2.3</td>\n",
       "    </tr>\n",
       "    <tr>\n",
       "      <th>357</th>\n",
       "      <td>Women's Handbag and Purse Manufacturing</td>\n",
       "      <td>1.6</td>\n",
       "    </tr>\n",
       "    <tr>\n",
       "      <th>166</th>\n",
       "      <td>Malt Manufacturing</td>\n",
       "      <td>1.2</td>\n",
       "    </tr>\n",
       "    <tr>\n",
       "      <th>199</th>\n",
       "      <td>Newsprint Mills</td>\n",
       "      <td>1.1</td>\n",
       "    </tr>\n",
       "    <tr>\n",
       "      <th>39</th>\n",
       "      <td>Blank Magnetic and Optical Recording Media Man...</td>\n",
       "      <td>0.5</td>\n",
       "    </tr>\n",
       "  </tbody>\n",
       "</table>\n",
       "<p>364 rows × 2 columns</p>\n",
       "</div>"
      ],
      "text/plain": [
       "                                        NAICS Industry  Employees\n",
       "19            All Other Plastics Product Manufacturing      379.2\n",
       "60       Commercial Printing (except Screen and Books)      315.6\n",
       "267                                 Poultry Processing      233.1\n",
       "164                                      Machine Shops      231.8\n",
       "5                               Aircraft Manufacturing      171.9\n",
       "..                                                 ...        ...\n",
       "218                       Other Apparel Knitting Mills        2.3\n",
       "357            Women's Handbag and Purse Manufacturing        1.6\n",
       "166                                 Malt Manufacturing        1.2\n",
       "199                                    Newsprint Mills        1.1\n",
       "39   Blank Magnetic and Optical Recording Media Man...        0.5\n",
       "\n",
       "[364 rows x 2 columns]"
      ]
     },
     "metadata": {},
     "output_type": "display_data"
    }
   ],
   "source": [
    "#Question 2.2 \n",
    "df.rename(columns={'naics_title':'NAICS Industry','emp': 'Employees'}, inplace=True)\n",
    "df2 = df[df['year'] == 2018]\n",
    "df2 = df2[['NAICS Industry', 'Employees']]\n",
    "df2 = df2.groupby('NAICS Industry').sum()\n",
    "df2.reset_index(inplace=True)\n",
    "df2 = df2.sort_values(by=['Employees'], ascending=False)\n",
    "display(df2)\n"
   ]
  },
  {
   "cell_type": "code",
   "execution_count": 163,
   "metadata": {},
   "outputs": [
    {
     "data": {
      "text/plain": [
       "'The industry with the highest total annual payroll in 2018 is:'"
      ]
     },
     "metadata": {},
     "output_type": "display_data"
    },
    {
     "data": {
      "text/html": [
       "<div>\n",
       "<style scoped>\n",
       "    .dataframe tbody tr th:only-of-type {\n",
       "        vertical-align: middle;\n",
       "    }\n",
       "\n",
       "    .dataframe tbody tr th {\n",
       "        vertical-align: top;\n",
       "    }\n",
       "\n",
       "    .dataframe thead th {\n",
       "        text-align: right;\n",
       "    }\n",
       "</style>\n",
       "<table border=\"1\" class=\"dataframe\">\n",
       "  <thead>\n",
       "    <tr style=\"text-align: right;\">\n",
       "      <th></th>\n",
       "      <th>NAICS Industry</th>\n",
       "      <th>pay</th>\n",
       "    </tr>\n",
       "  </thead>\n",
       "  <tbody>\n",
       "    <tr>\n",
       "      <th>5</th>\n",
       "      <td>Aircraft Manufacturing</td>\n",
       "      <td>17366.5</td>\n",
       "    </tr>\n",
       "  </tbody>\n",
       "</table>\n",
       "</div>"
      ],
      "text/plain": [
       "           NAICS Industry      pay\n",
       "5  Aircraft Manufacturing  17366.5"
      ]
     },
     "metadata": {},
     "output_type": "display_data"
    }
   ],
   "source": [
    "#Question 2.3 \n",
    "df3 = df[df['year'] == 2018]\n",
    "df3 = df3[['NAICS Industry', 'pay']]\n",
    "df3 = df3.groupby('NAICS Industry').sum()\n",
    "df3.reset_index(inplace=True)\n",
    "df3 = df3.sort_values(by=['pay'], ascending=False)\n",
    "display(\"The industry with the highest total annual payroll in 2018 is:\", df3.head(1))"
   ]
  },
  {
   "cell_type": "code",
   "execution_count": 162,
   "metadata": {},
   "outputs": [
    {
     "data": {
      "image/png": "[encoded data removed]",
      "text/plain": [
       "<Figure size 640x480 with 1 Axes>"
      ]
     },
     "metadata": {},
     "output_type": "display_data"
    }
   ],
   "source": [
    "#Question 2.4 \n",
    "import matplotlib.pyplot as plt \n",
    "df4 = df[['year', 'invest']]\n",
    "df4 = df4.groupby('year').sum()\n",
    "df4.reset_index(inplace=True)\n",
    "plt.plot(df4['year'],df4['invest']) \n",
    "plt.title('Total Investment by Year')\n",
    "plt.xlabel('Year')\n",
    "plt.ylabel('Total Investment')\n",
    "plt.show()"
   ]
  },
  {
   "cell_type": "code",
   "execution_count": 166,
   "metadata": {},
   "outputs": [
    {
     "data": {
      "text/plain": [
       "'The industry with the highest 5-factor TFP index in 2015 is'"
      ]
     },
     "metadata": {},
     "output_type": "display_data"
    },
    {
     "data": {
      "text/html": [
       "<div>\n",
       "<style scoped>\n",
       "    .dataframe tbody tr th:only-of-type {\n",
       "        vertical-align: middle;\n",
       "    }\n",
       "\n",
       "    .dataframe tbody tr th {\n",
       "        vertical-align: top;\n",
       "    }\n",
       "\n",
       "    .dataframe thead th {\n",
       "        text-align: right;\n",
       "    }\n",
       "</style>\n",
       "<table border=\"1\" class=\"dataframe\">\n",
       "  <thead>\n",
       "    <tr style=\"text-align: right;\">\n",
       "      <th></th>\n",
       "      <th>NAICS Industry</th>\n",
       "      <th>tfp5</th>\n",
       "    </tr>\n",
       "  </thead>\n",
       "  <tbody>\n",
       "    <tr>\n",
       "      <th>6584</th>\n",
       "      <td>Petrochemical Manufacturing</td>\n",
       "      <td>1.987</td>\n",
       "    </tr>\n",
       "  </tbody>\n",
       "</table>\n",
       "</div>"
      ],
      "text/plain": [
       "                   NAICS Industry   tfp5\n",
       "6584  Petrochemical Manufacturing  1.987"
      ]
     },
     "metadata": {},
     "output_type": "display_data"
    }
   ],
   "source": [
    "#Question 2.5 \n",
    "df5 = df[df['year'] == 2015]\n",
    "df5 = df5[['NAICS Industry', 'tfp5']] \n",
    "df5 = df5.sort_values(by=['tfp5'], ascending=False)\n",
    "display(\"The industry with the highest 5-factor TFP index in 2015 is\", \n",
    "        df5.head(1))"
   ]
  },
  {
   "cell_type": "code",
   "execution_count": null,
   "metadata": {},
   "outputs": [],
   "source": [
    "#Question 2.6 \n"
   ]
  },
  {
   "cell_type": "code",
   "execution_count": null,
   "metadata": {},
   "outputs": [],
   "source": [
    "#Question 2.7\n",
    "df1990 = df[df['year'] == 1990][['NAICS Industry', 'prodh']]\n",
    "df2000 = df[df['year'] == 2000][['NAICS Industry', 'prodh']]\n",
    "combined_df = df1990.merge(df2000, on='NAICS Industry', suffixes=('_1990', '_2000'), how='outer')\n",
    "combined_df['prodh_change'] = (combined_df['prodh_2000'] - combined_df['prodh_1990'])\n",
    "combined_df = combined_df.sort_values(by=['prodh_change'], ascending=False)\n",
    "display( 'The industry with the highest production worker hours increase between 1990 and 2000 is', combined_df.head(1))"
   ]
  },
  {
   "cell_type": "code",
   "execution_count": null,
   "metadata": {},
   "outputs": [],
   "source": [
    "#Question 2.8\n",
    "df2015 = df[df['year'] == 2015]\n",
    "df2015 = df2015.sort_values(by=['matcost'], ascending=False)\n",
    "display('The industry with the highest total cost of materials in 2015 is', df2015.iloc[0]['NAICS Industry'])\n",
    "display('the percentage of matcost relative to total value added was', df2015.iloc[0]['matcost'] / df2015.iloc[0]['vadd'] *100, '%')"
   ]
  },
  {
   "cell_type": "code",
   "execution_count": null,
   "metadata": {},
   "outputs": [],
   "source": [
    "#Question 2.9\n",
    "import matplotlib.pyplot as plt\n",
    "df2010 = df[df['year'] == 2010][['NAICS Industry', 'tfp4']]"
   ]
  }
 ],
 "metadata": {
  "kernelspec": {
   "display_name": "Python 3",
   "language": "python",
   "name": "python3"
  },
  "language_info": {
   "codemirror_mode": {
    "name": "ipython",
    "version": 3
   },
   "file_extension": ".py",
   "mimetype": "text/x-python",
   "name": "python",
   "nbconvert_exporter": "python",
   "pygments_lexer": "ipython3",
   "version": "3.11.2"
  }
 },
 "nbformat": 4,
 "nbformat_minor": 2
}
