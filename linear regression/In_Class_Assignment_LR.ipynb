{
 "cells": [
  {
   "cell_type": "markdown",
   "metadata": {},
   "source": [
    "# In Class Assignment - Linear Regression"
   ]
  },
  {
   "cell_type": "markdown",
   "metadata": {},
   "source": [
    "<font color=red>__Question (1)__</font>: Develop a simple linear regression model using independant variable, \"elongation\", and the target variable, \"tensile strength\". Follow the steps in the notebook we used in class to develop your model, report the coefficients, and make predictions on test data."
   ]
  },
  {
   "cell_type": "code",
   "execution_count": 9,
   "metadata": {},
   "outputs": [
    {
     "name": "stdout",
     "output_type": "stream",
     "text": [
      "w_0=3.340 and w_1=9.778\n"
     ]
    },
    {
     "data": {
      "text/plain": [
       "array([[ 1.3       , 16.05117625],\n",
       "       [ 1.8       , 20.93997005],\n",
       "       [ 2.1       , 23.87324632],\n",
       "       [ 2.9       , 31.6953164 ],\n",
       "       [ 1.6       , 18.98445253],\n",
       "       [ 3.1       , 33.65083392],\n",
       "       [ 1.1       , 14.09565873],\n",
       "       [ 0.6       ,  9.20686493],\n",
       "       [ 1.2       , 15.07341749],\n",
       "       [ 2.2       , 24.85100508]])"
      ]
     },
     "metadata": {},
     "output_type": "display_data"
    }
   ],
   "source": [
    "from sklearn.linear_model import LinearRegression \n",
    "from sklearn.model_selection import train_test_split \n",
    "import pandas as pd \n",
    "import numpy as np\n",
    "import matplotlib.pyplot as plt \n",
    "import seaborn as sns\n",
    "url = 'https://raw.githubusercontent.com/MasoudMiM/ME_364/main/3D_Printer_Data/3DPrinterDataset.csv'   # Link to the 3D printer data set\n",
    "df = pd.read_csv(url)\n",
    "df.head()\n",
    "\n",
    "#data split for training and testing\n",
    "x_datal=np.array(df[['elongation']])   # I.V.\n",
    "y_datal=np.array(df[['tension_strenght']])      # Target Variable\n",
    "x_trainl,x_testl,y_trainl,y_testl=train_test_split(\n",
    "    x_datal,y_datal, test_size=0.2, shuffle=True, random_state=100)\n",
    "\n",
    "# Linear Regression\n",
    "lml = LinearRegression() \n",
    "lml.fit(x_trainl, y_trainl)\n",
    "w0l=lml.intercept_[0]  # w_0\n",
    "w1l=lml.coef_[0][0]    # W-1\n",
    "print(f'w_0={w0l:.3f} and w_1={w1l:.3f}')\n",
    "\n",
    "# making prediction\n",
    "yhatl = lml.predict(x_testl)\n",
    "display(np.hstack([x_testl, yhatl]))"
   ]
  },
  {
   "cell_type": "markdown",
   "metadata": {},
   "source": [
    "<font color=red>__Question (2)__</font>: Using the model you developed for Question (1), perform a model evaluation using MSE, MAE, and R$^2$. Also, plot your training data, test data, and the fitted line on the same plot with legends and axes labels. "
   ]
  },
  {
   "cell_type": "code",
   "execution_count": 11,
   "metadata": {},
   "outputs": [
    {
     "data": {
      "text/plain": [
       "'MSE=27.004, MAE=4.140, R2=0.521'"
      ]
     },
     "metadata": {},
     "output_type": "display_data"
    }
   ],
   "source": [
    "from sklearn.metrics import mean_squared_error \n",
    "from sklearn.metrics import r2_score \n",
    "from sklearn.metrics import mean_absolute_error \n",
    "\n",
    "MSE = mean_squared_error(y_testl, yhatl) \n",
    "MAE = mean_absolute_error(y_testl, yhatl) \n",
    "R2 = r2_score(y_testl, yhatl) \n",
    "display(f'MSE={MSE:.3f}, MAE={MAE:.3f}, R2={R2:.3f}')"
   ]
  },
  {
   "cell_type": "markdown",
   "metadata": {},
   "source": [
    "<font color='red'>__Question (3)__</font>: Follow the steps described in the notebook and develop a linear model using independent variables \"elongation\" and \"roughness\", and dependent variable \"tensile strength\". Find and report the coefficients (weights) and also make predictions using the test data."
   ]
  },
  {
   "cell_type": "code",
   "execution_count": 18,
   "metadata": {},
   "outputs": [
    {
     "name": "stdout",
     "output_type": "stream",
     "text": [
      "w_0=4.35, w_1= -0.01 and w2=9.86\n"
     ]
    },
    {
     "data": {
      "text/plain": [
       "array([[ 55.        ,   1.3       ,  16.78301952],\n",
       "       [212.        ,   1.8       ,  20.63036267],\n",
       "       [168.        ,   2.1       ,  23.89016101],\n",
       "       [138.        ,   2.9       ,  31.98173898],\n",
       "       [360.        ,   1.6       ,  17.64024214],\n",
       "       [220.        ,   3.1       ,  33.38850015],\n",
       "       [ 60.        ,   1.1       ,  14.77733545],\n",
       "       [289.        ,   0.6       ,   8.27270225],\n",
       "       [120.        ,   1.2       ,  15.34991679],\n",
       "       [298.        ,   2.2       ,  23.98085037]])"
      ]
     },
     "metadata": {},
     "output_type": "display_data"
    }
   ],
   "source": [
    "x_data=np.array(df[['roughness','elongation']])   # I.V.\n",
    "y_data=np.array(df[['tension_strenght']])      # Target Variable\n",
    "\n",
    "x_train,x_test,y_train,y_test=train_test_split(x_data,y_data, test_size=0.2, shuffle=True, random_state=100)\n",
    "lmm = LinearRegression() \n",
    "lmm.fit(x_train, y_train) \n",
    "w0m=lmm.intercept_[0]  # w_0\n",
    "w1m=lmm.coef_[0][0]    # W-1\n",
    "w2m=lmm.coef_[0][1]    # W-2\n",
    "print(f'w_0={w0m:0.2f}, w_1= {w1m:.2f} and w2={w2m:.2f}')\n",
    "yhatm = lmm.predict(x_test)\n",
    "display(np.column_stack([x_test, yhatm]))"
   ]
  },
  {
   "cell_type": "markdown",
   "metadata": {},
   "source": [
    "<font color=red>__Question (4)__</font>: Using the model you developed for Question (3), perform a model evaluation using MSE, MAE, and R$^2$ and print the metrics. Which model has the better performance? Simple linear regression you developed in Q(1)-Q(2) or multiple linear regression?"
   ]
  },
  {
   "cell_type": "code",
   "execution_count": 24,
   "metadata": {},
   "outputs": [
    {
     "data": {
      "text/plain": [
       "'for one dimensional linear model developed in Q1: '"
      ]
     },
     "metadata": {},
     "output_type": "display_data"
    },
    {
     "data": {
      "text/plain": [
       "'MSE=27.004, MAE=4.140, R2=0.521'"
      ]
     },
     "metadata": {},
     "output_type": "display_data"
    },
    {
     "data": {
      "text/plain": [
       "'for two dimensional linear model developed in Q2: '"
      ]
     },
     "metadata": {},
     "output_type": "display_data"
    },
    {
     "data": {
      "text/plain": [
       "'MSE=29.306, MAE=4.365, R2=0.480'"
      ]
     },
     "metadata": {},
     "output_type": "display_data"
    }
   ],
   "source": [
    "\n",
    "MSE_1 = mean_squared_error(y_testl, yhatl) \n",
    "MAE_1 = mean_absolute_error(y_testl, yhatl) \n",
    "R2_1 = r2_score(y_testl, yhatl) \n",
    "\n",
    "MSE_2 = mean_squared_error(y_test,yhatm) \n",
    "MAE_2 = mean_absolute_error(y_test,yhatm)\n",
    "R2_2 = r2_score(y_test,yhatm)\n",
    "\n",
    "display( \"for one dimensional linear model developed in Q1: \", f'MSE={MSE_1:.3f}, MAE={MAE_1:.3f}, R2={R2_1:.3f}')\n",
    "display( \"for two dimensional linear model developed in Q2: \", f'MSE={MSE_2:.3f}, MAE={MAE_2:.3f}, R2={R2_2:.3f}')"
   ]
  }
 ],
 "metadata": {
  "interpreter": {
   "hash": "fb72153cf54ad77d82f8164c4a554839638aadec43f56da798779a40d43ee9cc"
  },
  "kernelspec": {
   "display_name": "Python 3.9.5 ('base')",
   "language": "python",
   "name": "python3"
  },
  "language_info": {
   "codemirror_mode": {
    "name": "ipython",
    "version": 3
   },
   "file_extension": ".py",
   "mimetype": "text/x-python",
   "name": "python",
   "nbconvert_exporter": "python",
   "pygments_lexer": "ipython3",
   "version": "3.11.2"
  },
  "orig_nbformat": 4
 },
 "nbformat": 4,
 "nbformat_minor": 2
}
